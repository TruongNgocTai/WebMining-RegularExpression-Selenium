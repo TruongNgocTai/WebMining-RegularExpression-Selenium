{
 "cells": [
  {
   "cell_type": "markdown",
   "metadata": {},
   "source": [
    "Phần demo dưới đây nhằm mục đích phác họa khả năng của Selenium, và mới chỉ làm đến bước đi đến trang chứa thông tin các chuyến bay từ TP HCM ra Đà Nẵng trong ngày mai. Sau khi đọc hiểu và chạy thử xong phần demo này, bạn nên thử làm đầy đủ để trả lời cho câu hỏi trong slide lý thuyết; bài này không phải nộp, nhưng nên làm để có kinh nghiệm, để chuẩn bị cho đồ án cuối kỳ."
   ]
  },
  {
   "cell_type": "code",
   "execution_count": 1,
   "metadata": {
    "scrolled": true
   },
   "outputs": [],
   "source": [
    "# Trước tiên, bạn phải cài Selenium và Chrome drivers \n",
    "# (xem mục 1.2 và 1.3 ở đây: https://selenium-python.readthedocs.io/installation.html)\n",
    "from selenium import webdriver\n",
    "from selenium.webdriver.common.keys import Keys"
   ]
  },
  {
   "cell_type": "code",
   "execution_count": 2,
   "metadata": {},
   "outputs": [],
   "source": [
    "from bs4 import BeautifulSoup\n",
    "import re # Regular expression\n",
    "from datetime import date, timedelta"
   ]
  },
  {
   "cell_type": "code",
   "execution_count": 3,
   "metadata": {},
   "outputs": [
    {
     "name": "stdout",
     "output_type": "stream",
     "text": [
      "2018-09-25\n",
      "25 Sep\n"
     ]
    }
   ],
   "source": [
    "# Ngày mai là ngày bao nhiêu?\n",
    "today = date.today()\n",
    "tomorrow = today + timedelta(1)\n",
    "print(tomorrow)\n",
    "tomorrow_day = str(tomorrow.day)\n",
    "tomorow_month = tomorrow.strftime('%b')\n",
    "print(tomorrow_day, tomorow_month)"
   ]
  },
  {
   "cell_type": "code",
   "execution_count": 4,
   "metadata": {},
   "outputs": [],
   "source": [
    "# Mở Chrome và cho full màn hình\n",
    "browser = webdriver.Chrome()\n",
    "browser.maximize_window()"
   ]
  },
  {
   "cell_type": "code",
   "execution_count": 5,
   "metadata": {},
   "outputs": [],
   "source": [
    "# Mở trang chủ của Vietjet\n",
    "browser.get('https://www.vietjetair.com/Sites/Web/vi-VN/Home')"
   ]
  },
  {
   "cell_type": "code",
   "execution_count": 6,
   "metadata": {},
   "outputs": [],
   "source": [
    "# Tắt cửa sổ quảng cáo nếu có bằng cách ấn phím Esc \n",
    "browser.find_element_by_tag_name('html').send_keys(Keys.ESCAPE)"
   ]
  },
  {
   "cell_type": "code",
   "execution_count": 7,
   "metadata": {},
   "outputs": [],
   "source": [
    "# Chọn điểm khởi hành là TP HCM \n",
    "locations = browser.find_element_by_id('selectOrigin').find_elements_by_tag_name('option')\n",
    "for location in locations:\n",
    "    if 'SGN' in location.text:\n",
    "        location.click()\n",
    "        break"
   ]
  },
  {
   "cell_type": "code",
   "execution_count": 8,
   "metadata": {},
   "outputs": [],
   "source": [
    "# Chọn điểm đến là Đà Nẵng\n",
    "locations = browser.find_element_by_id('selectDestination').find_elements_by_tag_name('option')\n",
    "for location in locations:\n",
    "    if \"DAD\" in location.text:\n",
    "        location.click()"
   ]
  },
  {
   "cell_type": "code",
   "execution_count": 9,
   "metadata": {},
   "outputs": [],
   "source": [
    "# Chọn mua vé một chiều\n",
    "browser.find_element_by_id('ctl00_UcRightV31_RbOneWay').click()"
   ]
  },
  {
   "cell_type": "code",
   "execution_count": 10,
   "metadata": {},
   "outputs": [],
   "source": [
    "# Click chỗ ngày đi để hiện lên calendar để chọn\n",
    "browser.find_element_by_id('ctl00_UcRightV31_TxtDepartDate').click()"
   ]
  },
  {
   "cell_type": "code",
   "execution_count": 11,
   "metadata": {},
   "outputs": [],
   "source": [
    "# Chọn tháng đi\n",
    "months = browser.find_element_by_id('ui-datepicker-div').find_elements_by_tag_name('option')\n",
    "for month in months:\n",
    "    if month.text == tomorow_month:\n",
    "        month.click()\n",
    "        break"
   ]
  },
  {
   "cell_type": "code",
   "execution_count": 12,
   "metadata": {},
   "outputs": [],
   "source": [
    "# Chọn ngày đi\n",
    "days = browser.find_element_by_id('ui-datepicker-div').find_elements_by_tag_name('td')\n",
    "for day in days:\n",
    "    if day.text == tomorrow_day:\n",
    "        day.click()\n",
    "        break"
   ]
  },
  {
   "cell_type": "code",
   "execution_count": 13,
   "metadata": {},
   "outputs": [],
   "source": [
    "# Ấn nút tìm chuyến bay\n",
    "browser.find_element_by_id('ctl00_UcRightV31_BtSearch').click()"
   ]
  },
  {
   "cell_type": "code",
   "execution_count": 14,
   "metadata": {},
   "outputs": [],
   "source": [
    "# Sau khi ra được trang kết quả, ta lấy nội dung html của trang này\n",
    "# và đưa cho Beautiful Soup để parse:\n",
    "# tree = BeautifulSoup(browser.page_source, 'html.parser')"
   ]
  }
 ],
 "metadata": {
  "kernelspec": {
   "display_name": "Python 3",
   "language": "python",
   "name": "python3"
  },
  "language_info": {
   "codemirror_mode": {
    "name": "ipython",
    "version": 3
   },
   "file_extension": ".py",
   "mimetype": "text/x-python",
   "name": "python",
   "nbconvert_exporter": "python",
   "pygments_lexer": "ipython3",
   "version": "3.6.4"
  },
  "toc": {
   "nav_menu": {},
   "number_sections": false,
   "sideBar": true,
   "skip_h1_title": false,
   "title_cell": "Table of Contents",
   "title_sidebar": "Contents",
   "toc_cell": false,
   "toc_position": {
    "height": "calc(100% - 180px)",
    "left": "10px",
    "top": "150px",
    "width": "165px"
   },
   "toc_section_display": true,
   "toc_window_display": true
  }
 },
 "nbformat": 4,
 "nbformat_minor": 2
}
